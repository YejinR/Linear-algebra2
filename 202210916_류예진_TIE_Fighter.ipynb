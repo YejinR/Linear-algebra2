{
  "nbformat": 4,
  "nbformat_minor": 0,
  "metadata": {
    "colab": {
      "provenance": [],
      "authorship_tag": "ABX9TyPosD6ckJwp4KXn8pgl6847",
      "include_colab_link": true
    },
    "kernelspec": {
      "name": "python3",
      "display_name": "Python 3"
    },
    "language_info": {
      "name": "python"
    },
    "gpuClass": "standard"
  },
  "cells": [
    {
      "cell_type": "markdown",
      "metadata": {
        "id": "view-in-github",
        "colab_type": "text"
      },
      "source": [
        "<a href=\"https://colab.research.google.com/github/YejinR/Linear-algebra2/blob/main/202210916_%EB%A5%98%EC%98%88%EC%A7%84_TIE_Fighter.ipynb\" target=\"_parent\"><img src=\"https://colab.research.google.com/assets/colab-badge.svg\" alt=\"Open In Colab\"/></a>"
      ]
    },
    {
      "cell_type": "code",
      "execution_count": null,
      "metadata": {
        "id": "pigGZZuVlOgn"
      },
      "outputs": [],
      "source": [
        "import numpy as np\n",
        "import matplotlib.pyplot as plt\n",
        "from matplotlib.patches import Polygon\n",
        "\n",
        "INF = 1500  # 그림판 크기\n",
        "LEN = 100   # 처음 사각형의 크기"
      ]
    },
    {
      "cell_type": "code",
      "source": [
        "def draw_axis(ax): # 좌표축을 그리는 함수\n",
        "  ax.axhline(0, color='black', alpha=0.3) \n",
        "  ax.axvline(0, color='black', alpha=0.3)  \n",
        "  ax.set_xlim(-INF, INF) # 축 제한\n",
        "  ax.set_ylim(-INF, INF) \n",
        "  ax.set_aspect('equal') "
      ],
      "metadata": {
        "id": "ycVkTSILm2vN"
      },
      "execution_count": null,
      "outputs": []
    },
    {
      "cell_type": "code",
      "source": [
        "def draw_rectangle(ax, p1, p2, p3, p4): \n",
        "  my_polygon = Polygon([p1, p2, p3, p4])\n",
        "  ax.add_patch(my_polygon)"
      ],
      "metadata": {
        "id": "oDnXRxRDm8Lo"
      },
      "execution_count": null,
      "outputs": []
    },
    {
      "cell_type": "code",
      "source": [
        "def draw_object(ax): \n",
        "  p1 = np.array([0, 0])\n",
        "  p2 = np.array([LEN, 0])\n",
        "  p3 = np.array([LEN, LEN])\n",
        "  p4 = np.array([0, LEN])\n",
        "\n",
        "  draw_rectangle(ax, p1, p2, p3, p4)"
      ],
      "metadata": {
        "id": "iI0Y2Rdtm-nH"
      },
      "execution_count": null,
      "outputs": []
    },
    {
      "cell_type": "code",
      "source": [
        "fig, ax = plt.subplots(figsize=(7,7)) \n",
        "\n",
        "draw_axis(ax)\n",
        "\n",
        "draw_object(ax) \n",
        "\n",
        "plt.show()"
      ],
      "metadata": {
        "colab": {
          "base_uri": "https://localhost:8080/",
          "height": 605
        },
        "id": "MeXYY3ecmbom",
        "outputId": "6debdca9-d662-4edc-882e-524ce82ecba2"
      },
      "execution_count": null,
      "outputs": [
        {
          "output_type": "display_data",
          "data": {
            "text/plain": [
              "<Figure size 700x700 with 1 Axes>"
            ],
            "image/png": "[encoded data removed]"
          },
          "metadata": {}
        }
      ]
    },
    {
      "cell_type": "markdown",
      "source": [
        "1. 변환 구현\n",
        "translate(p, dx, dy)\n",
        "\n",
        "*  rotate(p, theta)\n",
        "*   scale(p, sx, sy)\n",
        "*   shear_x(p, sx)\n",
        "*   shear_y(p, sy)\n",
        "*   reflect_x(p)\n",
        "*   reflect_y(p)\n",
        "\n"
      ],
      "metadata": {
        "id": "3eguXphIgF43"
      }
    },
    {
      "cell_type": "code",
      "source": [
        "def translate(p, dx, dy):\n",
        "  hp = np.array([p[0], p[1], 1.0])\n",
        "\n",
        "  m = np.array([[1.0, 0.0, dx], [0.0, 1.0, dy], [0.0, 0.0, 1.0]])  \n",
        "  q = np.dot(m, hp) \n",
        "\n",
        "  q = np.array([q[0], q[1]])\n",
        "  return q"
      ],
      "metadata": {
        "id": "K_olg1PWnW8R"
      },
      "execution_count": null,
      "outputs": []
    },
    {
      "cell_type": "code",
      "source": [
        "def rotate(p, theta):\n",
        "  cos = np.cos(theta)\n",
        "  sin = np.sin(theta)\n",
        "\n",
        "  hp = np.array([p[0], p[1], 1.0])\n",
        "\n",
        "  m = np.array([[cos, -sin, 0.0 ], [sin, cos, 0.0], [0.0, 0.0, 1.0]])  \n",
        "\n",
        "  q = np.dot(m, hp)  # (3,3) x (3,1) -> (3,1)\n",
        "\n",
        "  q = np.array([q[0], q[1]])\n",
        "  return q"
      ],
      "metadata": {
        "id": "hLxKwYoLpLH7"
      },
      "execution_count": null,
      "outputs": []
    },
    {
      "cell_type": "code",
      "source": [
        "def scale(p, sx, sy):\n",
        "  hp = np.array([p[0], p[1], 1.0])\n",
        "\n",
        "  m = np.array([[sx, 0.0, 0.0 ], [0.0, sy, 0.0], [0.0, 0.0, 1.0]])  \n",
        "\n",
        "  q = np.dot(m, hp)  # (3,3) x (3,1) -> (3,1)\n",
        "\n",
        "  q = np.array([q[0], q[1]])\n",
        "  return q"
      ],
      "metadata": {
        "id": "sQqV_jaOr_X4"
      },
      "execution_count": null,
      "outputs": []
    },
    {
      "cell_type": "code",
      "source": [
        "def shear_x(p, sx): #\n",
        "  hp = np.array([p[0], p[1], 1.0])\n",
        "\n",
        "  m = np.array([[1.0, sx, 0.0 ], [0.0, 1.0, 0.0], [0.0, 0.0, 1.0]])  \n",
        "\n",
        "  q = np.dot(m, hp)  # (3,3) x (3,1) -> (3,1)\n",
        "  #print(q)\n",
        "\n",
        "  q = np.array([q[0], q[1]])\n",
        "  return q"
      ],
      "metadata": {
        "id": "HLTDEL0BsTV-"
      },
      "execution_count": null,
      "outputs": []
    },
    {
      "cell_type": "code",
      "source": [
        "def shear_y(p, sy):\n",
        "  hp = np.array([p[0], p[1], 1.0])\n",
        "\n",
        "  m = np.array([[1.0 , 0.0, 0.0 ], [sy, 1.0, 0.0], [0.0, 0.0, 1.0]]) \n",
        "\n",
        "  q = np.dot(m, hp)  # (3,3) x (3,1) -> (3,1)\n",
        "  #print(q)\n",
        "\n",
        "  q = np.array([q[0], q[1]])\n",
        "  return q"
      ],
      "metadata": {
        "id": "IlK0s_5jsk15"
      },
      "execution_count": null,
      "outputs": []
    },
    {
      "cell_type": "code",
      "source": [
        "def reflect_x(p):\n",
        "  hp = np.array([p[0], p[1], 1.0])\n",
        "\n",
        "  m = np.array([[1.0, 0.0, 0.0 ], [0.0, -1.0, 0.0], [0.0, 0.0, 1.0]])  \n",
        "\n",
        "  q = np.dot(m, hp)  # (3,3) x (3,1) -> (3,1)\n",
        "  #print(q)\n",
        "\n",
        "  q = np.array([q[0], q[1]])\n",
        "  return q"
      ],
      "metadata": {
        "id": "ih-m5nxbsr_B"
      },
      "execution_count": null,
      "outputs": []
    },
    {
      "cell_type": "code",
      "source": [
        "def reflect_y(p):\n",
        "  hp = np.array([p[0], p[1], 1.0])\n",
        "\n",
        "  m = np.array([[-1.0, 0.0, 0.0 ], [0.0, 1.0, 0.0], [0.0, 0.0, 1.0]])  \n",
        "\n",
        "  q = np.dot(m, hp)  # (3,3) x (3,1) -> (3,1)\n",
        "  #print(q)\n",
        "\n",
        "  q = np.array([q[0], q[1]])\n",
        "  return q"
      ],
      "metadata": {
        "id": "O02qQR_btBIF"
      },
      "execution_count": null,
      "outputs": []
    },
    {
      "cell_type": "code",
      "source": [
        "def draw_cockpit(ax, p1, p2, p3, p4): \n",
        "\n",
        "  q1 = translate(p1, -LEN/2, -LEN/2)\n",
        "  q2 = translate(p2, -LEN/2, -LEN/2)\n",
        "  q3 = translate(p3, -LEN/2, -LEN/2)\n",
        "  q4 = translate(p4, -LEN/2, -LEN/2)\n",
        "\n",
        "  s = 6\n",
        "  q1 = scale(q1, s, s)\n",
        "  q2 = scale(q2, s, s)\n",
        "  q3 = scale(q3, s, s)\n",
        "  q4 = scale(q4, s, s)\n",
        "\n",
        "  q1 = rotate(q1, 3.14/4.0)\n",
        "  q2 = rotate(q2, 3.14/4.0)\n",
        "  q3 = rotate(q3, 3.14/4.0)\n",
        "  q4 = rotate(q4, 3.14/4.0)\n",
        "\n",
        "  draw_rectangle(ax, q1, q2, q3, q4)"
      ],
      "metadata": {
        "id": "2wz5n7Rutcee"
      },
      "execution_count": null,
      "outputs": []
    },
    {
      "cell_type": "code",
      "source": [
        "def draw_left_arm(ax, p1, p2, p3, p4):\n",
        "\n",
        "  q1 = translate(p1, LEN*2+70, -LEN/2+80)\n",
        "  q2 = translate(p2, LEN*2+70, -LEN*3/2+80)\n",
        "  q3 = translate(p3, LEN*2+70, LEN/2+80)\n",
        "  q4 = translate(p4, LEN*2+70, -LEN/2+80)\n",
        "\n",
        "  s = 1\n",
        "  q1 = scale(q1, s, s+2)\n",
        "  q2 = scale(q2, s, s+2)\n",
        "  q3 = scale(q3, s, s+2)\n",
        "  q4 = scale(q4, s, s+2)\n",
        "  \n",
        "  q1 = rotate(q1, -3.14/2.85)\n",
        "  q2 = rotate(q2, -3.14/2.85)\n",
        "  q3 = rotate(q3, -3.14/2.85)\n",
        "  q4 = rotate(q4, -3.14/2.85)\n",
        "  \n",
        "  draw_rectangle(ax, q1, q2, q3, q4)\n",
        "\n",
        "  q1 = reflect_x(q1)\n",
        "  q2 = reflect_x(q2)\n",
        "  q3 = reflect_x(q3)\n",
        "  q4 = reflect_x(q4)\n",
        "\n",
        "  draw_rectangle(ax, q1, q2, q3, q4)\n",
        "  "
      ],
      "metadata": {
        "id": "x8ridtBb2t2q"
      },
      "execution_count": null,
      "outputs": []
    },
    {
      "cell_type": "code",
      "source": [
        "def draw_right_arm(ax, p1, p2, p3, p4):\n",
        "\n",
        "  q1 = translate(p1, LEN*2+70, -LEN/2+80)\n",
        "  q2 = translate(p2, LEN*2+70, -LEN*3/2+80)\n",
        "  q3 = translate(p3, LEN*2+70, LEN/2+80)\n",
        "  q4 = translate(p4, LEN*2+70, -LEN/2+80)\n",
        "\n",
        "  s = 1\n",
        "  q1 = scale(q1, s, s+2)\n",
        "  q2 = scale(q2, s, s+2)\n",
        "  q3 = scale(q3, s, s+2)\n",
        "  q4 = scale(q4, s, s+2)\n",
        "  \n",
        "  q1 = rotate(q1, -3.14/2.85)\n",
        "  q2 = rotate(q2, -3.14/2.85)\n",
        "  q3 = rotate(q3, -3.14/2.85)\n",
        "  q4 = rotate(q4, -3.14/2.85)\n",
        "\n",
        "  q1 = reflect_y(q1)\n",
        "  q2 = reflect_y(q2)\n",
        "  q3 = reflect_y(q3)\n",
        "  q4 = reflect_y(q4)\n",
        "\n",
        "  draw_rectangle(ax, q1, q2, q3, q4)\n",
        "\n",
        "  q1 = reflect_x(q1)\n",
        "  q2 = reflect_x(q2)\n",
        "  q3 = reflect_x(q3)\n",
        "  q4 = reflect_x(q4)\n",
        "\n",
        "  draw_rectangle(ax, q1, q2, q3, q4)"
      ],
      "metadata": {
        "id": "FkzQW2nU3BLK"
      },
      "execution_count": null,
      "outputs": []
    },
    {
      "cell_type": "code",
      "source": [
        "def draw_wing(ax, p1, p2, p3, p4):\n",
        "\n",
        "  q1 = translate(p1, LEN*4.5+250, -LEN/2)\n",
        "  q2 = translate(p2, LEN*4.5+250, -LEN*3/2)\n",
        "  q3 = translate(p3, LEN*4.5+250, LEN/2)\n",
        "  q4 = translate(p4, LEN*4.5+250, -LEN/2)\n",
        "\n",
        "  s = 5\n",
        "  q1 = scale(q1, s-4, s)\n",
        "  q2 = scale(q2, s-4, s)\n",
        "  q3 = scale(q3, s-4, s)\n",
        "  q4 = scale(q4, s-4, s)\n",
        "  \n",
        "  q1 = rotate(q1, 0.0)\n",
        "  q2 = rotate(q2, 0.0)\n",
        "  q3 = rotate(q3, 0.0)\n",
        "  q4 = rotate(q4, 0.0)\n",
        "  \n",
        "  draw_rectangle(ax, q1, q2, q3, q4)\n",
        "\n",
        "  q1 = reflect_y(q1)\n",
        "  q2 = reflect_y(q2)\n",
        "  q3 = reflect_y(q3)\n",
        "  q4 = reflect_y(q4)\n",
        "\n",
        "  draw_rectangle(ax, q1, q2, q3, q4)"
      ],
      "metadata": {
        "id": "G6yj6dT428SW"
      },
      "execution_count": null,
      "outputs": []
    },
    {
      "cell_type": "code",
      "source": [
        "def draw_object(ax):\n",
        "  p1 = np.array([0, 0])\n",
        "  p2 = np.array([LEN, 0])\n",
        "  p3 = np.array([LEN, LEN])\n",
        "  p4 = np.array([0, LEN])\n",
        "\n",
        "  draw_cockpit(ax, p1, p2, p3, p4)\n",
        "  draw_wing(ax, p1, p2, p3, p4)\n",
        "  draw_left_arm(ax, p1, p2, p3, p4)\n",
        "  draw_right_arm(ax, p1, p2, p3, p4)"
      ],
      "metadata": {
        "id": "fYuQGrX-1fXo"
      },
      "execution_count": null,
      "outputs": []
    },
    {
      "cell_type": "code",
      "source": [
        "fig, ax = plt.subplots(figsize=(10,10)) \n",
        "\n",
        "draw_axis(ax) \n",
        "\n",
        "draw_object(ax) \n",
        "\n",
        "plt.show()"
      ],
      "metadata": {
        "colab": {
          "base_uri": "https://localhost:8080/",
          "height": 836
        },
        "id": "tsYkH2976gEy",
        "outputId": "361a8e09-bf3f-4cff-f51c-c191ba50b1b8"
      },
      "execution_count": null,
      "outputs": [
        {
          "output_type": "display_data",
          "data": {
            "text/plain": [
              "<Figure size 1000x1000 with 1 Axes>"
            ],
            "image/png": "[encoded data removed]"
          },
          "metadata": {}
        }
      ]
    }
  ]
}