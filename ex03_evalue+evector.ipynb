{
  "nbformat": 4,
  "nbformat_minor": 0,
  "metadata": {
    "colab": {
      "provenance": [],
      "authorship_tag": "ABX9TyMaUbp8vm8XvuVWmn/JUhlD",
      "include_colab_link": true
    },
    "kernelspec": {
      "name": "python3",
      "display_name": "Python 3"
    },
    "language_info": {
      "name": "python"
    }
  },
  "cells": [
    {
      "cell_type": "markdown",
      "metadata": {
        "id": "view-in-github",
        "colab_type": "text"
      },
      "source": [
        "<a href=\"https://colab.research.google.com/github/YejinR/Linear-algebra2/blob/main/ex03_evalue%2Bevector.ipynb\" target=\"_parent\"><img src=\"https://colab.research.google.com/assets/colab-badge.svg\" alt=\"Open In Colab\"/></a>"
      ]
    },
    {
      "cell_type": "markdown",
      "source": [
        "#Part 1. Eigen values & Eigen vertors  \n",
        "### 0. Import libraries\n"
      ],
      "metadata": {
        "id": "fkJWV1GrAEkT"
      }
    },
    {
      "cell_type": "code",
      "execution_count": null,
      "metadata": {
        "id": "ZfasVhQy_vL5"
      },
      "outputs": [],
      "source": [
        "import numpy as np\n",
        "import numpy.linalg as npl # npl: Linear Algebra로 임의로 줄인것임\n",
        "import matplotlib.pyplot as plt # 그래프 그리는 것"
      ]
    },
    {
      "cell_type": "markdown",
      "source": [
        "### <eigen values & eigen vectors of A>\n",
        "$ Au = \\lambda u $"
      ],
      "metadata": {
        "id": "56CpsN-GAv3L"
      }
    },
    {
      "cell_type": "code",
      "source": [
        "A = np.array([[4,2], [1,3]])\n",
        "print(\"A:\")\n",
        "print(A, \"\\n\")\n",
        "\n",
        "e_values, e_vectors = npl.eig(A)\n",
        "print(\"A의 고윳값 = \", e_values)\n",
        "print(\"A의 고유벡터 = \", e_vectors, \"\\n\")\n",
        "\n",
        "# eigen vector u1, u2\n",
        "u1 = np.vstack(e_vectors[:,0])\n",
        "u2 = np.vstack(e_vectors[:,1])\n",
        "print(\"u1: \", u1)\n",
        "print(\"u2: \", u2)\n",
        "\n",
        "#eigen values lambda1, lambda2\n",
        "l1, l2 = e_values[0], e_values[1]\n",
        "print(\"eigen values: \", l1, l2, \"\\n\")\n",
        "\n",
        "#Check\n",
        "print(\"Au1: \", np.dot(A, u1))\n",
        "print(\"l1*u1: \", l1*u1, \"\\n\")\n",
        "\n",
        "print(\"Au2: \", np.dot(A, u2))\n",
        "print(\"l2*u2: \", l2*u2)"
      ],
      "metadata": {
        "colab": {
          "base_uri": "https://localhost:8080/"
        },
        "id": "KoHA5_r7Aqjt",
        "outputId": "a811c625-a16b-4b6f-c468-4a5be6e77876"
      },
      "execution_count": null,
      "outputs": [
        {
          "output_type": "stream",
          "name": "stdout",
          "text": [
            "A:\n",
            "[[4 2]\n",
            " [1 3]] \n",
            "\n",
            "A의 고윳값 =  [5. 2.]\n",
            "A의 고유벡터 =  [[ 0.89442719 -0.70710678]\n",
            " [ 0.4472136   0.70710678]] \n",
            "\n",
            "u1:  [[0.89442719]\n",
            " [0.4472136 ]]\n",
            "u2:  [[-0.70710678]\n",
            " [ 0.70710678]]\n",
            "eigen values:  5.0 2.0 \n",
            "\n",
            "Au1:  [[4.47213595]\n",
            " [2.23606798]]\n",
            "l1*u1:  [[4.47213595]\n",
            " [2.23606798]] \n",
            "\n",
            "Au2:  [[-1.41421356]\n",
            " [ 1.41421356]]\n",
            "l2*u2:  [[-1.41421356]\n",
            " [ 1.41421356]]\n"
          ]
        }
      ]
    },
    {
      "cell_type": "code",
      "source": [
        "B = np.array([[5,2,0],[2,5,0], [-3,4,6]])\n",
        "w2, v2 = npl.eig(B) # B의 고윳값과 고유벡터 계산\n",
        "\n",
        "print(\"\\nB의 고윳값 = \", w2)\n",
        "print(\"B의 고유벡터 = \", v2)"
      ],
      "metadata": {
        "colab": {
          "base_uri": "https://localhost:8080/"
        },
        "id": "CB6Q-4g5Cau5",
        "outputId": "94cdc985-4c34-45eb-d1cf-cfb24365bc3f"
      },
      "execution_count": null,
      "outputs": [
        {
          "output_type": "stream",
          "name": "stdout",
          "text": [
            "\n",
            "B의 고윳값 =  [6. 7. 3.]\n",
            "B의 고유벡터 =  [[ 0.          0.57735027  0.36650833]\n",
            " [ 0.          0.57735027 -0.36650833]\n",
            " [ 1.          0.57735027  0.85518611]]\n"
          ]
        }
      ]
    }
  ]
}